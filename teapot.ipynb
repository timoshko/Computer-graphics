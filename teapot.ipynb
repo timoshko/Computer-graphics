{
 "cells": [
  {
   "cell_type": "code",
   "execution_count": 1,
   "id": "rural-procedure",
   "metadata": {},
   "outputs": [],
   "source": [
    "import numpy as np"
   ]
  },
  {
   "cell_type": "code",
   "execution_count": 2,
   "id": "specified-orange",
   "metadata": {},
   "outputs": [],
   "source": [
    "teapot = open(r'teapot.obj', 'r')\n",
    "data = teapot.readlines()\n",
    "\n",
    "points = []\n",
    "facets = []\n",
    "\n",
    "for line in data:\n",
    "    temp = line.split(' ')\n",
    "    if temp[0] == 'v':\n",
    "        points.append([float(temp[1]),float(temp[2]), float(temp[3]) ])\n",
    "    elif temp[0] == 'f':\n",
    "        facets.append([int(temp[1]),int(temp[2]), int(temp[3]) ])\n",
    "\n",
    "def distanse(p1, p2):\n",
    "    dis = ((p1[0] - p2[0])**2 + (p1[1] - p2[1])**2 + (p1[2] - p2[2])**2)**0.5\n",
    "    return dis\n",
    "\n",
    "def filling_in_distances(index_point1, index_point2, matrix):\n",
    "    if (matrix[index_point1][index_point2] == 0.0 and matrix[index_point2][index_point1] == 0.0 ):\n",
    "        matrix[index_point1][index_point2] = distanse(points[index_point1], points[index_point2])"
   ]
  },
  {
   "cell_type": "code",
   "execution_count": 5,
   "id": "featured-surgeon",
   "metadata": {},
   "outputs": [
    {
     "name": "stdout",
     "output_type": "stream",
     "text": [
      "1587.332632163652\n"
     ]
    }
   ],
   "source": [
    "count = len(facets)\n",
    "matrix_dis = np.zeros((count, count))\n",
    "\n",
    "#итерирование по массиву граней\n",
    "for facet in facets:\n",
    "    #важно! номера точек начинаются с 1, а индексы с 0!!! point_index = number_point - 1\n",
    "    number_point1 = facet[0] \n",
    "    number_point2 = facet[1]\n",
    "    number_point3 = facet[2]\n",
    "    filling_in_distances(number_point1 - 1, number_point2 - 1, matrix_dis)\n",
    "    filling_in_distances(number_point1 - 1, number_point3 - 1, matrix_dis)\n",
    "    filling_in_distances(number_point2 - 1, number_point3 - 1, matrix_dis)\n",
    "\n",
    "Sum = 0\n",
    "for row in matrix_dis:\n",
    "    for m in row:\n",
    "        Sum += m\n",
    "print(Sum)"
   ]
  },
  {
   "cell_type": "code",
   "execution_count": 6,
   "id": "owned-status",
   "metadata": {},
   "outputs": [
    {
     "name": "stdout",
     "output_type": "stream",
     "text": [
      "популярна точка 1735\n",
      "координаты точки [0.0, 0.0, 0.0]\n",
      "содержится в  40.0 гранях\n",
      "популярна точка 1888\n",
      "координаты точки [0.0, 3.15, 0.0]\n",
      "содержится в  40.0 гранях\n"
     ]
    }
   ],
   "source": [
    "# задание 2. Найти самую популярную вершину \n",
    "counter = np.zeros((len(points) + 1))\n",
    "for row in facets:\n",
    "    for point in row:\n",
    "        counter[point] += 1\n",
    "Max = counter.max();\n",
    "for i in range(len(counter)):\n",
    "    if counter[i] == Max:\n",
    "        print(\"популярна точка\", i)\n",
    "        print('координаты точки', points[i -1])\n",
    "        print(\"содержится в \", counter[i], \"гранях\")"
   ]
  }
 ],
 "metadata": {
  "kernelspec": {
   "display_name": "Python 3",
   "language": "python",
   "name": "python3"
  },
  "language_info": {
   "codemirror_mode": {
    "name": "ipython",
    "version": 3
   },
   "file_extension": ".py",
   "mimetype": "text/x-python",
   "name": "python",
   "nbconvert_exporter": "python",
   "pygments_lexer": "ipython3",
   "version": "3.9.2"
  }
 },
 "nbformat": 4,
 "nbformat_minor": 5
}
